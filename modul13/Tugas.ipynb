{
 "cells": [
  {
   "cell_type": "code",
   "execution_count": 16,
   "id": "ac98a3e9-5131-4de5-89ed-bb1ed119a444",
   "metadata": {},
   "outputs": [
    {
     "name": "stdout",
     "output_type": "stream",
     "text": [
      "        id  id_android      speed      time  distance  rating  rating_bus  \\\n",
      "0        1           0  19.210586  0.138049     2.652       3           0   \n",
      "1        2           0  30.848229  0.171485     5.290       3           0   \n",
      "2        3           1  13.560101  0.067699     0.918       3           0   \n",
      "3        4           1  19.766679  0.389544     7.700       3           0   \n",
      "4        8           0  25.807401  0.154801     3.995       2           0   \n",
      "..     ...         ...        ...       ...       ...     ...         ...   \n",
      "158  38081          24  30.051732  0.218756     6.574       2           0   \n",
      "159  38082          24  30.173788  0.255387     7.706       3           0   \n",
      "160  38084          25   1.153772  0.013001     0.015       1           3   \n",
      "161  38090          26   0.843223  0.007116     0.006       3           1   \n",
      "162  38092          27   1.372998  0.016752     0.023       3           1   \n",
      "\n",
      "     rating_weather  car_or_bus                        linha  \n",
      "0                 0           1                          NaN  \n",
      "1                 0           1                          NaN  \n",
      "2                 0           2                          NaN  \n",
      "3                 0           2                          NaN  \n",
      "4                 0           1                          NaN  \n",
      "..              ...         ...                          ...  \n",
      "158               0           1                        carro  \n",
      "159               0           1                        carro  \n",
      "160               2           2  721 - CASTELO BRANCO SUISSA  \n",
      "161               2           2    002 - FERNANDO COLLOR DIA  \n",
      "162               2           2     060 - PADRE PEDRO CAMPUS  \n",
      "\n",
      "[163 rows x 10 columns]\n"
     ]
    }
   ],
   "source": [
    "import pandas as pd\n",
    "import numpy as np\n",
    "from sklearn.decomposition import PCA\n",
    "\n",
    "data = pd.read_csv(\"go_track_tracks.csv\")\n",
    "print(data)"
   ]
  },
  {
   "cell_type": "code",
   "execution_count": 17,
   "id": "bc623d1f-d5ff-41b5-a2db-d79ba7bc193f",
   "metadata": {},
   "outputs": [
    {
     "name": "stdout",
     "output_type": "stream",
     "text": [
      "        id  id_android      speed      time  distance  rating  rating_bus  \\\n",
      "0        1           0  19.210586  0.138049     2.652       3           0   \n",
      "1        2           0  30.848229  0.171485     5.290       3           0   \n",
      "2        3           1  13.560101  0.067699     0.918       3           0   \n",
      "3        4           1  19.766679  0.389544     7.700       3           0   \n",
      "4        8           0  25.807401  0.154801     3.995       2           0   \n",
      "..     ...         ...        ...       ...       ...     ...         ...   \n",
      "158  38081          24  30.051732  0.218756     6.574       2           0   \n",
      "159  38082          24  30.173788  0.255387     7.706       3           0   \n",
      "160  38084          25   1.153772  0.013001     0.015       1           3   \n",
      "161  38090          26   0.843223  0.007116     0.006       3           1   \n",
      "162  38092          27   1.372998  0.016752     0.023       3           1   \n",
      "\n",
      "     rating_weather  car_or_bus  linha  \n",
      "0                 0           1     22  \n",
      "1                 0           1     22  \n",
      "2                 0           2     22  \n",
      "3                 0           2     22  \n",
      "4                 0           1     22  \n",
      "..              ...         ...    ...  \n",
      "158               0           1     21  \n",
      "159               0           1     21  \n",
      "160               2           2     20  \n",
      "161               2           2      1  \n",
      "162               2           2     12  \n",
      "\n",
      "[163 rows x 10 columns]\n"
     ]
    }
   ],
   "source": [
    "from sklearn.preprocessing import LabelEncoder\n",
    "\n",
    "label_encoder = LabelEncoder()\n",
    "data['linha'] = label_encoder.fit_transform(data['linha'])\n",
    "print(data)"
   ]
  },
  {
   "cell_type": "code",
   "execution_count": 18,
   "id": "a76368cd-7079-4b2b-9c7d-fa75f0d7c1dd",
   "metadata": {},
   "outputs": [
    {
     "name": "stdout",
     "output_type": "stream",
     "text": [
      "     id_android      speed      time  distance  rating  rating_bus  \\\n",
      "0             0  19.210586  0.138049     2.652       3           0   \n",
      "1             0  30.848229  0.171485     5.290       3           0   \n",
      "2             1  13.560101  0.067699     0.918       3           0   \n",
      "3             1  19.766679  0.389544     7.700       3           0   \n",
      "4             0  25.807401  0.154801     3.995       2           0   \n",
      "..          ...        ...       ...       ...     ...         ...   \n",
      "158          24  30.051732  0.218756     6.574       2           0   \n",
      "159          24  30.173788  0.255387     7.706       3           0   \n",
      "160          25   1.153772  0.013001     0.015       1           3   \n",
      "161          26   0.843223  0.007116     0.006       3           1   \n",
      "162          27   1.372998  0.016752     0.023       3           1   \n",
      "\n",
      "     rating_weather  car_or_bus  linha  \n",
      "0                 0           1     22  \n",
      "1                 0           1     22  \n",
      "2                 0           2     22  \n",
      "3                 0           2     22  \n",
      "4                 0           1     22  \n",
      "..              ...         ...    ...  \n",
      "158               0           1     21  \n",
      "159               0           1     21  \n",
      "160               2           2     20  \n",
      "161               2           2      1  \n",
      "162               2           2     12  \n",
      "\n",
      "[163 rows x 9 columns]\n"
     ]
    }
   ],
   "source": [
    "X = data.drop(columns=['id'])\n",
    "print(X)"
   ]
  },
  {
   "cell_type": "code",
   "execution_count": 19,
   "id": "86243cdc-3461-44e7-a921-639c550a09b8",
   "metadata": {},
   "outputs": [
    {
     "name": "stdout",
     "output_type": "stream",
     "text": [
      "Jumlah fitur input:  9 fitur\n"
     ]
    }
   ],
   "source": [
    "num_features = X.shape[1]\n",
    "print(\"Jumlah fitur input: \", num_features, \"fitur\")"
   ]
  },
  {
   "cell_type": "code",
   "execution_count": 20,
   "id": "f66a09f2-8ae3-42e8-bbea-92e2326bb1fc",
   "metadata": {},
   "outputs": [
    {
     "data": {
      "text/html": [
       "<style>#sk-container-id-1 {color: black;}#sk-container-id-1 pre{padding: 0;}#sk-container-id-1 div.sk-toggleable {background-color: white;}#sk-container-id-1 label.sk-toggleable__label {cursor: pointer;display: block;width: 100%;margin-bottom: 0;padding: 0.3em;box-sizing: border-box;text-align: center;}#sk-container-id-1 label.sk-toggleable__label-arrow:before {content: \"▸\";float: left;margin-right: 0.25em;color: #696969;}#sk-container-id-1 label.sk-toggleable__label-arrow:hover:before {color: black;}#sk-container-id-1 div.sk-estimator:hover label.sk-toggleable__label-arrow:before {color: black;}#sk-container-id-1 div.sk-toggleable__content {max-height: 0;max-width: 0;overflow: hidden;text-align: left;background-color: #f0f8ff;}#sk-container-id-1 div.sk-toggleable__content pre {margin: 0.2em;color: black;border-radius: 0.25em;background-color: #f0f8ff;}#sk-container-id-1 input.sk-toggleable__control:checked~div.sk-toggleable__content {max-height: 200px;max-width: 100%;overflow: auto;}#sk-container-id-1 input.sk-toggleable__control:checked~label.sk-toggleable__label-arrow:before {content: \"▾\";}#sk-container-id-1 div.sk-estimator input.sk-toggleable__control:checked~label.sk-toggleable__label {background-color: #d4ebff;}#sk-container-id-1 div.sk-label input.sk-toggleable__control:checked~label.sk-toggleable__label {background-color: #d4ebff;}#sk-container-id-1 input.sk-hidden--visually {border: 0;clip: rect(1px 1px 1px 1px);clip: rect(1px, 1px, 1px, 1px);height: 1px;margin: -1px;overflow: hidden;padding: 0;position: absolute;width: 1px;}#sk-container-id-1 div.sk-estimator {font-family: monospace;background-color: #f0f8ff;border: 1px dotted black;border-radius: 0.25em;box-sizing: border-box;margin-bottom: 0.5em;}#sk-container-id-1 div.sk-estimator:hover {background-color: #d4ebff;}#sk-container-id-1 div.sk-parallel-item::after {content: \"\";width: 100%;border-bottom: 1px solid gray;flex-grow: 1;}#sk-container-id-1 div.sk-label:hover label.sk-toggleable__label {background-color: #d4ebff;}#sk-container-id-1 div.sk-serial::before {content: \"\";position: absolute;border-left: 1px solid gray;box-sizing: border-box;top: 0;bottom: 0;left: 50%;z-index: 0;}#sk-container-id-1 div.sk-serial {display: flex;flex-direction: column;align-items: center;background-color: white;padding-right: 0.2em;padding-left: 0.2em;position: relative;}#sk-container-id-1 div.sk-item {position: relative;z-index: 1;}#sk-container-id-1 div.sk-parallel {display: flex;align-items: stretch;justify-content: center;background-color: white;position: relative;}#sk-container-id-1 div.sk-item::before, #sk-container-id-1 div.sk-parallel-item::before {content: \"\";position: absolute;border-left: 1px solid gray;box-sizing: border-box;top: 0;bottom: 0;left: 50%;z-index: -1;}#sk-container-id-1 div.sk-parallel-item {display: flex;flex-direction: column;z-index: 1;position: relative;background-color: white;}#sk-container-id-1 div.sk-parallel-item:first-child::after {align-self: flex-end;width: 50%;}#sk-container-id-1 div.sk-parallel-item:last-child::after {align-self: flex-start;width: 50%;}#sk-container-id-1 div.sk-parallel-item:only-child::after {width: 0;}#sk-container-id-1 div.sk-dashed-wrapped {border: 1px dashed gray;margin: 0 0.4em 0.5em 0.4em;box-sizing: border-box;padding-bottom: 0.4em;background-color: white;}#sk-container-id-1 div.sk-label label {font-family: monospace;font-weight: bold;display: inline-block;line-height: 1.2em;}#sk-container-id-1 div.sk-label-container {text-align: center;}#sk-container-id-1 div.sk-container {/* jupyter's `normalize.less` sets `[hidden] { display: none; }` but bootstrap.min.css set `[hidden] { display: none !important; }` so we also need the `!important` here to be able to override the default hidden behavior on the sphinx rendered scikit-learn.org. See: https://github.com/scikit-learn/scikit-learn/issues/21755 */display: inline-block !important;position: relative;}#sk-container-id-1 div.sk-text-repr-fallback {display: none;}</style><div id=\"sk-container-id-1\" class=\"sk-top-container\"><div class=\"sk-text-repr-fallback\"><pre>PCA(n_components=9)</pre><b>In a Jupyter environment, please rerun this cell to show the HTML representation or trust the notebook. <br />On GitHub, the HTML representation is unable to render, please try loading this page with nbviewer.org.</b></div><div class=\"sk-container\" hidden><div class=\"sk-item\"><div class=\"sk-estimator sk-toggleable\"><input class=\"sk-toggleable__control sk-hidden--visually\" id=\"sk-estimator-id-1\" type=\"checkbox\" checked><label for=\"sk-estimator-id-1\" class=\"sk-toggleable__label sk-toggleable__label-arrow\">PCA</label><div class=\"sk-toggleable__content\"><pre>PCA(n_components=9)</pre></div></div></div></div></div>"
      ],
      "text/plain": [
       "PCA(n_components=9)"
      ]
     },
     "execution_count": 20,
     "metadata": {},
     "output_type": "execute_result"
    }
   ],
   "source": [
    "pca = PCA(n_components=num_features)\n",
    "pca.fit(X)"
   ]
  },
  {
   "cell_type": "code",
   "execution_count": 21,
   "id": "63eba4d6-76c9-4deb-9c4d-a80e2997fecb",
   "metadata": {},
   "outputs": [
    {
     "name": "stdout",
     "output_type": "stream",
     "text": [
      "Fitur independen ke- 1 menghasilkan variance ratio sebesar 0.6865011\n",
      "Fitur independen ke- 2 menghasilkan variance ratio sebesar 0.1428973\n",
      "Fitur independen ke- 3 menghasilkan variance ratio sebesar 0.0851602\n",
      "Fitur independen ke- 4 menghasilkan variance ratio sebesar 0.0829226\n",
      "Fitur independen ke- 5 menghasilkan variance ratio sebesar 0.0011604\n",
      "Fitur independen ke- 6 menghasilkan variance ratio sebesar 0.0008461\n",
      "Fitur independen ke- 7 menghasilkan variance ratio sebesar 0.0002825\n",
      "Fitur independen ke- 8 menghasilkan variance ratio sebesar 0.0001404\n",
      "Fitur independen ke- 9 menghasilkan variance ratio sebesar 8.94e-05\n"
     ]
    }
   ],
   "source": [
    "for i, j in enumerate(pca.explained_variance_ratio_):\n",
    "    print(\"Fitur independen ke-\", (i+1), \"menghasilkan variance ratio sebesar\", round(j, 7))"
   ]
  },
  {
   "cell_type": "code",
   "execution_count": 22,
   "id": "662a0611-81d3-498d-854a-086f3b3d0b3e",
   "metadata": {},
   "outputs": [
    {
     "name": "stdout",
     "output_type": "stream",
     "text": [
      "Fitur independen ke- 1 menghasilkan variance ratio sebesar 0.6865011\n",
      "Fitur independen ke- 2 menghasilkan variance ratio sebesar 0.1428973\n",
      "Fitur independen ke- 3 menghasilkan variance ratio sebesar 0.0851602\n"
     ]
    }
   ],
   "source": [
    "cummulative_variance = 0\n",
    "num_pc = 0\n",
    "for i, j in enumerate(pca.explained_variance_ratio_):\n",
    "    if cummulative_variance < 0.9:\n",
    "        num_pc += 1\n",
    "        cummulative_variance += j\n",
    "        print(\"Fitur independen ke-\", (i+1), \"menghasilkan variance ratio sebesar\", round(j, 7))"
   ]
  },
  {
   "cell_type": "code",
   "execution_count": 23,
   "id": "c58fc092-2a43-41a0-8396-fa2f825e8dbe",
   "metadata": {},
   "outputs": [
    {
     "data": {
      "text/html": [
       "<style>#sk-container-id-2 {color: black;}#sk-container-id-2 pre{padding: 0;}#sk-container-id-2 div.sk-toggleable {background-color: white;}#sk-container-id-2 label.sk-toggleable__label {cursor: pointer;display: block;width: 100%;margin-bottom: 0;padding: 0.3em;box-sizing: border-box;text-align: center;}#sk-container-id-2 label.sk-toggleable__label-arrow:before {content: \"▸\";float: left;margin-right: 0.25em;color: #696969;}#sk-container-id-2 label.sk-toggleable__label-arrow:hover:before {color: black;}#sk-container-id-2 div.sk-estimator:hover label.sk-toggleable__label-arrow:before {color: black;}#sk-container-id-2 div.sk-toggleable__content {max-height: 0;max-width: 0;overflow: hidden;text-align: left;background-color: #f0f8ff;}#sk-container-id-2 div.sk-toggleable__content pre {margin: 0.2em;color: black;border-radius: 0.25em;background-color: #f0f8ff;}#sk-container-id-2 input.sk-toggleable__control:checked~div.sk-toggleable__content {max-height: 200px;max-width: 100%;overflow: auto;}#sk-container-id-2 input.sk-toggleable__control:checked~label.sk-toggleable__label-arrow:before {content: \"▾\";}#sk-container-id-2 div.sk-estimator input.sk-toggleable__control:checked~label.sk-toggleable__label {background-color: #d4ebff;}#sk-container-id-2 div.sk-label input.sk-toggleable__control:checked~label.sk-toggleable__label {background-color: #d4ebff;}#sk-container-id-2 input.sk-hidden--visually {border: 0;clip: rect(1px 1px 1px 1px);clip: rect(1px, 1px, 1px, 1px);height: 1px;margin: -1px;overflow: hidden;padding: 0;position: absolute;width: 1px;}#sk-container-id-2 div.sk-estimator {font-family: monospace;background-color: #f0f8ff;border: 1px dotted black;border-radius: 0.25em;box-sizing: border-box;margin-bottom: 0.5em;}#sk-container-id-2 div.sk-estimator:hover {background-color: #d4ebff;}#sk-container-id-2 div.sk-parallel-item::after {content: \"\";width: 100%;border-bottom: 1px solid gray;flex-grow: 1;}#sk-container-id-2 div.sk-label:hover label.sk-toggleable__label {background-color: #d4ebff;}#sk-container-id-2 div.sk-serial::before {content: \"\";position: absolute;border-left: 1px solid gray;box-sizing: border-box;top: 0;bottom: 0;left: 50%;z-index: 0;}#sk-container-id-2 div.sk-serial {display: flex;flex-direction: column;align-items: center;background-color: white;padding-right: 0.2em;padding-left: 0.2em;position: relative;}#sk-container-id-2 div.sk-item {position: relative;z-index: 1;}#sk-container-id-2 div.sk-parallel {display: flex;align-items: stretch;justify-content: center;background-color: white;position: relative;}#sk-container-id-2 div.sk-item::before, #sk-container-id-2 div.sk-parallel-item::before {content: \"\";position: absolute;border-left: 1px solid gray;box-sizing: border-box;top: 0;bottom: 0;left: 50%;z-index: -1;}#sk-container-id-2 div.sk-parallel-item {display: flex;flex-direction: column;z-index: 1;position: relative;background-color: white;}#sk-container-id-2 div.sk-parallel-item:first-child::after {align-self: flex-end;width: 50%;}#sk-container-id-2 div.sk-parallel-item:last-child::after {align-self: flex-start;width: 50%;}#sk-container-id-2 div.sk-parallel-item:only-child::after {width: 0;}#sk-container-id-2 div.sk-dashed-wrapped {border: 1px dashed gray;margin: 0 0.4em 0.5em 0.4em;box-sizing: border-box;padding-bottom: 0.4em;background-color: white;}#sk-container-id-2 div.sk-label label {font-family: monospace;font-weight: bold;display: inline-block;line-height: 1.2em;}#sk-container-id-2 div.sk-label-container {text-align: center;}#sk-container-id-2 div.sk-container {/* jupyter's `normalize.less` sets `[hidden] { display: none; }` but bootstrap.min.css set `[hidden] { display: none !important; }` so we also need the `!important` here to be able to override the default hidden behavior on the sphinx rendered scikit-learn.org. See: https://github.com/scikit-learn/scikit-learn/issues/21755 */display: inline-block !important;position: relative;}#sk-container-id-2 div.sk-text-repr-fallback {display: none;}</style><div id=\"sk-container-id-2\" class=\"sk-top-container\"><div class=\"sk-text-repr-fallback\"><pre>PCA(n_components=3)</pre><b>In a Jupyter environment, please rerun this cell to show the HTML representation or trust the notebook. <br />On GitHub, the HTML representation is unable to render, please try loading this page with nbviewer.org.</b></div><div class=\"sk-container\" hidden><div class=\"sk-item\"><div class=\"sk-estimator sk-toggleable\"><input class=\"sk-toggleable__control sk-hidden--visually\" id=\"sk-estimator-id-2\" type=\"checkbox\" checked><label for=\"sk-estimator-id-2\" class=\"sk-toggleable__label sk-toggleable__label-arrow\">PCA</label><div class=\"sk-toggleable__content\"><pre>PCA(n_components=3)</pre></div></div></div></div></div>"
      ],
      "text/plain": [
       "PCA(n_components=3)"
      ]
     },
     "execution_count": 23,
     "metadata": {},
     "output_type": "execute_result"
    }
   ],
   "source": [
    "pca_reduced = PCA(n_components=num_pc)\n",
    "pca_reduced.fit(X)"
   ]
  },
  {
   "cell_type": "code",
   "execution_count": null,
   "id": "813b60df-e664-4880-a78c-d8889a2d4c86",
   "metadata": {},
   "outputs": [],
   "source": []
  }
 ],
 "metadata": {
  "kernelspec": {
   "display_name": "Python 3 (ipykernel)",
   "language": "python",
   "name": "python3"
  },
  "language_info": {
   "codemirror_mode": {
    "name": "ipython",
    "version": 3
   },
   "file_extension": ".py",
   "mimetype": "text/x-python",
   "name": "python",
   "nbconvert_exporter": "python",
   "pygments_lexer": "ipython3",
   "version": "3.12.0"
  }
 },
 "nbformat": 4,
 "nbformat_minor": 5
}
