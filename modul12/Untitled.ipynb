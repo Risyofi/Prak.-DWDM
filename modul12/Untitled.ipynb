{
 "cells": [
  {
   "cell_type": "code",
   "execution_count": 12,
   "id": "7a887642-52bf-406b-a306-18d3b5e1bf17",
   "metadata": {},
   "outputs": [
    {
     "data": {
      "text/html": [
       "<div>\n",
       "<style scoped>\n",
       "    .dataframe tbody tr th:only-of-type {\n",
       "        vertical-align: middle;\n",
       "    }\n",
       "\n",
       "    .dataframe tbody tr th {\n",
       "        vertical-align: top;\n",
       "    }\n",
       "\n",
       "    .dataframe thead th {\n",
       "        text-align: right;\n",
       "    }\n",
       "</style>\n",
       "<table border=\"1\" class=\"dataframe\">\n",
       "  <thead>\n",
       "    <tr style=\"text-align: right;\">\n",
       "      <th></th>\n",
       "      <th>Product</th>\n",
       "    </tr>\n",
       "  </thead>\n",
       "  <tbody>\n",
       "    <tr>\n",
       "      <th>0</th>\n",
       "      <td>BREAD,MILK,BISCUIT,CORNFLAKES</td>\n",
       "    </tr>\n",
       "    <tr>\n",
       "      <th>1</th>\n",
       "      <td>BREAD,TEA,BOURNVITA</td>\n",
       "    </tr>\n",
       "    <tr>\n",
       "      <th>2</th>\n",
       "      <td>JAM,MAGGI,BREAD,MILK</td>\n",
       "    </tr>\n",
       "    <tr>\n",
       "      <th>3</th>\n",
       "      <td>MAGGI,TEA,BISCUIT</td>\n",
       "    </tr>\n",
       "    <tr>\n",
       "      <th>4</th>\n",
       "      <td>BREAD,TEA,BOURNVITA</td>\n",
       "    </tr>\n",
       "    <tr>\n",
       "      <th>5</th>\n",
       "      <td>MAGGI,TEA,CORNFLAKES</td>\n",
       "    </tr>\n",
       "    <tr>\n",
       "      <th>6</th>\n",
       "      <td>MAGGI,BREAD,TEA,BISCUIT</td>\n",
       "    </tr>\n",
       "  </tbody>\n",
       "</table>\n",
       "</div>"
      ],
      "text/plain": [
       "                         Product\n",
       "0  BREAD,MILK,BISCUIT,CORNFLAKES\n",
       "1            BREAD,TEA,BOURNVITA\n",
       "2           JAM,MAGGI,BREAD,MILK\n",
       "3              MAGGI,TEA,BISCUIT\n",
       "4            BREAD,TEA,BOURNVITA\n",
       "5           MAGGI,TEA,CORNFLAKES\n",
       "6        MAGGI,BREAD,TEA,BISCUIT"
      ]
     },
     "execution_count": 12,
     "metadata": {},
     "output_type": "execute_result"
    }
   ],
   "source": [
    "import numpy as np\n",
    "import pandas as pd\n",
    "from apyori import apriori\n",
    "\n",
    "df = pd.read_csv(\"GroceryStoreDataSet.csv\")\n",
    "df.columns = [\"Product\"]\n",
    "df.head(7)"
   ]
  },
  {
   "cell_type": "code",
   "execution_count": 13,
   "id": "066e488c-1278-4200-bd4e-8e76aa48cc9f",
   "metadata": {},
   "outputs": [
    {
     "name": "stdout",
     "output_type": "stream",
     "text": [
      "[['BREAD,MILK,BISCUIT,CORNFLAKES'], ['BREAD,TEA,BOURNVITA'], ['JAM,MAGGI,BREAD,MILK'], ['MAGGI,TEA,BISCUIT'], ['BREAD,TEA,BOURNVITA'], ['MAGGI,TEA,CORNFLAKES'], ['MAGGI,BREAD,TEA,BISCUIT'], ['JAM,MAGGI,BREAD,TEA'], ['BREAD,MILK'], ['COFFEE,COCK,BISCUIT,CORNFLAKES'], ['COFFEE,COCK,BISCUIT,CORNFLAKES'], ['COFFEE,SUGER,BOURNVITA'], ['BREAD,COFFEE,COCK'], ['BREAD,SUGER,BISCUIT'], ['COFFEE,SUGER,CORNFLAKES'], ['BREAD,SUGER,BOURNVITA'], ['BREAD,COFFEE,SUGER'], ['BREAD,COFFEE,SUGER'], ['TEA,MILK,COFFEE,CORNFLAKES']]\n"
     ]
    }
   ],
   "source": [
    "records = []\n",
    "for i in range(0, df.shape[0]):\n",
    "    records.append([str(df.values[i, j]) for j in range(0, df.shape[1])])\n",
    "print(records)"
   ]
  },
  {
   "cell_type": "code",
   "execution_count": 26,
   "id": "3d48fc57-d02b-40c5-af39-934a8669de06",
   "metadata": {},
   "outputs": [],
   "source": [
    "asc_rule = apriori(records, min_support=0.003, min_confidence=0.2, min_lift=3, min_length=2)\n",
    "\n",
    "for item in asc_rule:\n",
    "    pair = item[0]\n",
    "    items = [x for x in pair]\n",
    "\n",
    "    print(\"Rule: \" + items[0] + \" -> \" + items[1])\n",
    "    print(\"Support: \" + str(item[1]))\n",
    "    print(\"Confidence: \" + str(item[2][0][2]))\n",
    "    print(\"Lift: \" + str(item[2][0][3]))\n",
    "    print(\"===========================================\")"
   ]
  },
  {
   "cell_type": "code",
   "execution_count": 25,
   "id": "8b244304-fa15-4ef5-8990-962779d870d6",
   "metadata": {},
   "outputs": [],
   "source": []
  },
  {
   "cell_type": "code",
   "execution_count": null,
   "id": "4fdf6242-fa53-4757-8fa5-48d2be183942",
   "metadata": {},
   "outputs": [],
   "source": []
  }
 ],
 "metadata": {
  "kernelspec": {
   "display_name": "Python 3 (ipykernel)",
   "language": "python",
   "name": "python3"
  },
  "language_info": {
   "codemirror_mode": {
    "name": "ipython",
    "version": 3
   },
   "file_extension": ".py",
   "mimetype": "text/x-python",
   "name": "python",
   "nbconvert_exporter": "python",
   "pygments_lexer": "ipython3",
   "version": "3.12.0"
  }
 },
 "nbformat": 4,
 "nbformat_minor": 5
}
