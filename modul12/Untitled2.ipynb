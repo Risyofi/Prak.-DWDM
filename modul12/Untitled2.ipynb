{
 "cells": [
  {
   "cell_type": "code",
   "execution_count": 3,
   "id": "280036eb-1fb3-4e06-88fe-49550782ca00",
   "metadata": {},
   "outputs": [],
   "source": [
    "from apyori import apriori\n",
    "import pandas as pd\n",
    "\n",
    "# Membaca data dari file CSV\n",
    "df = pd.read_csv(\"GroceryStoreDataSet.csv\")\n",
    "\n",
    "# Mengonversi DataFrame ke dalam format yang sesuai untuk Apriori\n",
    "records = []\n",
    "for i in range(0, df.shape[0]):\n",
    "    records.append([str(df.values[i, j]) for j in range(0, df.shape[1])])\n",
    "\n",
    "# Menjalankan algoritma Apriori\n",
    "asc_rule = apriori(records, min_support=0.003, min_confidence=0.2, min_lift=3, min_length=2)\n",
    "\n",
    "# Menampilkan hasil aturan asosiasi\n",
    "for item in asc_rule:\n",
    "    pair = item[0]\n",
    "    items = [x for x in pair]\n",
    "\n",
    "    print(\"Rule: \" + items[0] + \" -> \" + items[1])\n",
    "    print(\"Support: \" + str(item[1]))\n",
    "    print(\"Confidence: \" + str(item[2][0][2]))\n",
    "    print(\"Lift: \" + str(item[2][0][3]))\n",
    "    print(\"===========================================\")\n"
   ]
  },
  {
   "cell_type": "code",
   "execution_count": 4,
   "id": "718a44d8-2f63-464f-afd8-8a7b793a78f4",
   "metadata": {},
   "outputs": [
    {
     "data": {
      "text/html": [
       "<div>\n",
       "<style scoped>\n",
       "    .dataframe tbody tr th:only-of-type {\n",
       "        vertical-align: middle;\n",
       "    }\n",
       "\n",
       "    .dataframe tbody tr th {\n",
       "        vertical-align: top;\n",
       "    }\n",
       "\n",
       "    .dataframe thead th {\n",
       "        text-align: right;\n",
       "    }\n",
       "</style>\n",
       "<table border=\"1\" class=\"dataframe\">\n",
       "  <thead>\n",
       "    <tr style=\"text-align: right;\">\n",
       "      <th></th>\n",
       "      <th></th>\n",
       "      <th></th>\n",
       "      <th>Product</th>\n",
       "    </tr>\n",
       "  </thead>\n",
       "  <tbody>\n",
       "    <tr>\n",
       "      <th rowspan=\"2\" valign=\"top\">BREAD</th>\n",
       "      <th>MILK</th>\n",
       "      <th>BISCUIT</th>\n",
       "      <td>CORNFLAKES</td>\n",
       "    </tr>\n",
       "    <tr>\n",
       "      <th>TEA</th>\n",
       "      <th>BOURNVITA</th>\n",
       "      <td>NaN</td>\n",
       "    </tr>\n",
       "    <tr>\n",
       "      <th>JAM</th>\n",
       "      <th>MAGGI</th>\n",
       "      <th>BREAD</th>\n",
       "      <td>MILK</td>\n",
       "    </tr>\n",
       "    <tr>\n",
       "      <th>MAGGI</th>\n",
       "      <th>TEA</th>\n",
       "      <th>BISCUIT</th>\n",
       "      <td>NaN</td>\n",
       "    </tr>\n",
       "    <tr>\n",
       "      <th>BREAD</th>\n",
       "      <th>TEA</th>\n",
       "      <th>BOURNVITA</th>\n",
       "      <td>NaN</td>\n",
       "    </tr>\n",
       "  </tbody>\n",
       "</table>\n",
       "</div>"
      ],
      "text/plain": [
       "                          Product\n",
       "BREAD MILK  BISCUIT    CORNFLAKES\n",
       "      TEA   BOURNVITA         NaN\n",
       "JAM   MAGGI BREAD            MILK\n",
       "MAGGI TEA   BISCUIT           NaN\n",
       "BREAD TEA   BOURNVITA         NaN"
      ]
     },
     "execution_count": 4,
     "metadata": {},
     "output_type": "execute_result"
    }
   ],
   "source": [
    "df.head()"
   ]
  },
  {
   "cell_type": "code",
   "execution_count": null,
   "id": "b213595b-367f-439f-9862-573dfbf72ad0",
   "metadata": {},
   "outputs": [],
   "source": []
  }
 ],
 "metadata": {
  "kernelspec": {
   "display_name": "Python 3 (ipykernel)",
   "language": "python",
   "name": "python3"
  },
  "language_info": {
   "codemirror_mode": {
    "name": "ipython",
    "version": 3
   },
   "file_extension": ".py",
   "mimetype": "text/x-python",
   "name": "python",
   "nbconvert_exporter": "python",
   "pygments_lexer": "ipython3",
   "version": "3.12.0"
  }
 },
 "nbformat": 4,
 "nbformat_minor": 5
}
